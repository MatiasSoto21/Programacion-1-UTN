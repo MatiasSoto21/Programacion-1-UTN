{
  "nbformat": 4,
  "nbformat_minor": 0,
  "metadata": {
    "colab": {
      "provenance": [],
      "authorship_tag": "ABX9TyN5hm7FiATjCNxGuH53KRSU",
      "include_colab_link": true
    },
    "kernelspec": {
      "name": "python3",
      "display_name": "Python 3"
    },
    "language_info": {
      "name": "python"
    }
  },
  "cells": [
    {
      "cell_type": "markdown",
      "metadata": {
        "id": "view-in-github",
        "colab_type": "text"
      },
      "source": [
        "<a href=\"https://colab.research.google.com/github/MatiasSoto21/Programacion-1-UTN/blob/main/Untitled0.ipynb\" target=\"_parent\"><img src=\"https://colab.research.google.com/assets/colab-badge.svg\" alt=\"Open In Colab\"/></a>"
      ]
    },
    {
      "cell_type": "code",
      "execution_count": null,
      "metadata": {
        "id": "gdrVuD3K4mC8"
      },
      "outputs": [],
      "source": [
        "#Ej9\n",
        "magnitud : float = float(input(\"ingrese magniutud del terremoto\"))\n",
        "\n",
        "if (magnitud > 3) :\n",
        "    print (\"Muy leve\")\n",
        "\n",
        "elif (magnitud >=3 and magnitud < 4):\n",
        "    print (\"Leve\")\n",
        "\n",
        "elif (magnitud >= 4 and magnitud < 5):\n",
        "    print(\"Moderado\")\n",
        "\n",
        "elif (magnitud >= 5 and magnitud < 6):\n",
        "    print(\"Fuerte\")\n",
        "\n",
        "elif (magnitud >= 6 and magnitud < 7):\n",
        "    print(\"Muy Fuerte\")\n",
        "\n",
        "elif (magnitud >= 7):\n",
        "    print(\"Extremo\")\n",
        "\n",
        "else:\n",
        "    print (\"Colocar valor correcto\")\n"
      ]
    },
    {
      "cell_type": "code",
      "source": [
        "#Ej1\n",
        "\n",
        "edad_usuario : int = int(input(\"ingrese su edad\"))\n",
        "\n",
        "mayor : str = \"Es mayor de edad\" if edad_usuario > 18 else \"Es menor\"\n",
        "\n",
        "print (mayor)"
      ],
      "metadata": {
        "colab": {
          "base_uri": "https://localhost:8080/"
        },
        "id": "KRUhtbAr5wcP",
        "outputId": "eaf60dbf-0a4f-4a97-d8cd-031f07423128"
      },
      "execution_count": null,
      "outputs": [
        {
          "output_type": "stream",
          "name": "stdout",
          "text": [
            "ingrese su edad18\n",
            "Es menor\n"
          ]
        }
      ]
    },
    {
      "cell_type": "code",
      "source": [
        "#Ej2\n",
        "\n",
        "nota_alumno : float = float(input(\"ingrese nota\"))\n",
        "\n",
        "calificacion = \"Aprobado\" if nota_alumno >= 6 else \"Desaprobado\"\n",
        "\n",
        "print (calificacion)"
      ],
      "metadata": {
        "colab": {
          "base_uri": "https://localhost:8080/"
        },
        "id": "nIVgn_-46D_e",
        "outputId": "cb455f65-6b29-45d6-ef26-1b9deb2c4811"
      },
      "execution_count": null,
      "outputs": [
        {
          "output_type": "stream",
          "name": "stdout",
          "text": [
            "ingrese nota5\n",
            "Desaprobado\n"
          ]
        }
      ]
    },
    {
      "cell_type": "code",
      "source": [
        "#Ej3\n",
        "\n",
        "numero:float = float(input(\"ingrese un numero\"))\n",
        "\n",
        "if (numero % 2 == 0):\n",
        "    print(\"Ha ingresado un numero par\")\n",
        "\n",
        "else:\n",
        "    print(\"Por favor, ingrese un numero par\")"
      ],
      "metadata": {
        "colab": {
          "base_uri": "https://localhost:8080/"
        },
        "id": "cH0A9tC47A0p",
        "outputId": "3175c10f-cc11-42d7-e4be-8660e9ad79f2"
      },
      "execution_count": null,
      "outputs": [
        {
          "output_type": "stream",
          "name": "stdout",
          "text": [
            "ingrese un numero2\n",
            "Ha ingresado un numero par\n"
          ]
        }
      ]
    },
    {
      "cell_type": "code",
      "source": [
        "#Ej4\n",
        "\n",
        "edad:int = int(input(\"ingrese su edad\"))\n",
        "\n",
        "if (edad >=0 and edad < 12):\n",
        "    print(\"Niño/a\")\n",
        "\n",
        "elif (edad >= 12 and edad < 18):\n",
        "    print(\"Adolescente\")\n",
        "\n",
        "elif (edad >= 18 and edad < 30):\n",
        "    print(\"Adulto/a joven\")\n",
        "\n",
        "elif (edad >= 30 and edad < 100):\n",
        "    print(\"Adulto/a\")\n",
        "\n",
        "else: print(\"Ingrese una edad valida\")"
      ],
      "metadata": {
        "colab": {
          "base_uri": "https://localhost:8080/"
        },
        "id": "WqCsPG4LESy7",
        "outputId": "ce1ee285-67a6-43a5-b418-787ce26fa27f"
      },
      "execution_count": null,
      "outputs": [
        {
          "output_type": "stream",
          "name": "stdout",
          "text": [
            "ingrese su edad101\n",
            "Ingrese una edad valida\n"
          ]
        }
      ]
    },
    {
      "cell_type": "code",
      "source": [
        "#Ej5\n",
        "\n",
        "contraseña: str  = str(input(\"Ingrese la contraseña\"))\n",
        "\n",
        "if (len(contraseña) >= 8 and len(contraseña) <=14 ):\n",
        "    print(\"Contraseña valida\")\n",
        "\n",
        "else: print(\"Por favor, ingrese una contraseña entre 8 y 14\")"
      ],
      "metadata": {
        "colab": {
          "base_uri": "https://localhost:8080/"
        },
        "id": "7iK2iLV4F3Qx",
        "outputId": "84726116-256f-4e31-9b76-c1f1ebebfd22"
      },
      "execution_count": null,
      "outputs": [
        {
          "output_type": "stream",
          "name": "stdout",
          "text": [
            "Ingrese la contraseña1234567\n",
            "Por favor, ingrese una contraseña entre 8 y 14\n"
          ]
        }
      ]
    },
    {
      "cell_type": "code",
      "source": [
        "#Ej 6\n",
        "\n",
        "from statistics import mode, median, mean\n",
        "import random\n",
        "numeros_aleatorios = [random.randint(1, 100) for i in range(50)]\n",
        "\n",
        "moda = mode(numeros_aleatorios)\n",
        "mediana = median(numeros_aleatorios)\n",
        "media = mean(numeros_aleatorios)\n",
        "\n",
        "print(f\"moda={moda}, mediana={mediana}, media={media}\")\n",
        "\n",
        "if (moda == mediana and moda == media):\n",
        "    print(\"Sin sesgo\")\n",
        "\n",
        "elif (media > mediana and mediana > moda):\n",
        "    print(\"Sesgo positivo o a la derecha\")\n",
        "\n",
        "elif (media < mediana and mediana < moda):\n",
        "    print(\"Sesgo negativo o a la izquierda\")\n"
      ],
      "metadata": {
        "colab": {
          "base_uri": "https://localhost:8080/"
        },
        "id": "1mp1B0aAHy6x",
        "outputId": "6c92ce2d-2f9c-40ac-c9e9-d754934b7951"
      },
      "execution_count": null,
      "outputs": [
        {
          "output_type": "stream",
          "name": "stdout",
          "text": [
            "moda=20, mediana=20, media=20\n",
            "Sin sesgo\n"
          ]
        }
      ]
    },
    {
      "cell_type": "code",
      "source": [
        "#Ej7\n",
        "\n",
        "frase : str = str(input(\"Ingrese una frase: \"))\n",
        "\n",
        "ult = frase[len(frase)-1].lower()\n",
        "\n",
        "if( ult in \"aeiou\"):\n",
        "   print(f\"{frase}!\")\n",
        "else:\n",
        "   print(frase)\n"
      ],
      "metadata": {
        "colab": {
          "base_uri": "https://localhost:8080/"
        },
        "id": "dSb7Lo0OKKpZ",
        "outputId": "d4d71ba0-d131-4537-de16-c4097ba8b585"
      },
      "execution_count": null,
      "outputs": [
        {
          "output_type": "stream",
          "name": "stdout",
          "text": [
            "Ingrese una frase: asdadasdxx\n",
            "asdadasdxx\n"
          ]
        }
      ]
    },
    {
      "cell_type": "code",
      "source": [
        "#Ej8\n",
        "\n",
        "nombre : str = str(input(\"Ingrese su nombre: \"))\n",
        "print(\"1: Nombre en Mayus\\n2: Nombre en Minus\\n3: Primer letra mayus\")\n",
        "opcion : int = int(input(\"Ingrese opcion: \"))\n",
        "def casos (arg):\n",
        "  if arg == 1:\n",
        "    print(nombre.upper())\n",
        "\n",
        "  elif arg == 2:\n",
        "    print(nombre.lower())\n",
        "\n",
        "  elif arg == 3:\n",
        "    print(nombre.title())\n",
        "  else:\n",
        "    print(\"opcion no valida\")\n",
        "\n",
        "casos(opcion)\n",
        "\n",
        "\n"
      ],
      "metadata": {
        "colab": {
          "base_uri": "https://localhost:8080/"
        },
        "id": "yfUym6OjNqyq",
        "outputId": "75151aa6-b784-4c0b-a99a-d78210c58b6b"
      },
      "execution_count": 80,
      "outputs": [
        {
          "output_type": "stream",
          "name": "stdout",
          "text": [
            "Ingrese su nombre: asd\n",
            "1: Nombre en Mayus\n",
            "2: Nombre en Minus\n",
            "3: Primer letra mayus\n",
            "Ingrese opcion: 3\n",
            "Asd\n"
          ]
        }
      ]
    },
    {
      "cell_type": "code",
      "source": [],
      "metadata": {
        "id": "mS6i9uscRjsv"
      },
      "execution_count": null,
      "outputs": []
    }
  ]
}